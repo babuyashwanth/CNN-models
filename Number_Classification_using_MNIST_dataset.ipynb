{
  "nbformat": 4,
  "nbformat_minor": 0,
  "metadata": {
    "colab": {
      "name": "Number Classification using MNIST dataset.ipynb",
      "provenance": [],
      "collapsed_sections": [],
      "authorship_tag": "ABX9TyN14KZw1OLKb3p2xeyweOCR",
      "include_colab_link": true
    },
    "kernelspec": {
      "name": "python3",
      "display_name": "Python 3"
    },
    "language_info": {
      "name": "python"
    }
  },
  "cells": [
    {
      "cell_type": "markdown",
      "metadata": {
        "id": "view-in-github",
        "colab_type": "text"
      },
      "source": [
        "<a href=\"https://colab.research.google.com/github/babuyashwanth/CNN-models/blob/main/Number_Classification_using_MNIST_dataset.ipynb\" target=\"_parent\"><img src=\"https://colab.research.google.com/assets/colab-badge.svg\" alt=\"Open In Colab\"/></a>"
      ]
    },
    {
      "cell_type": "code",
      "metadata": {
        "id": "wz874VDtrwQ3"
      },
      "source": [
        "import tensorflow as tf\n",
        "from tensorflow import keras\n",
        "import matplotlib.pyplot as plt\n",
        "%matplotlib inline\n",
        "import numpy as np"
      ],
      "execution_count": 1,
      "outputs": []
    },
    {
      "cell_type": "code",
      "metadata": {
        "id": "Bpf9ks9Sr0ub"
      },
      "source": [
        "(X_train,y_train),(X_test,y_test)=keras.datasets.mnist.load_data()"
      ],
      "execution_count": 2,
      "outputs": []
    },
    {
      "cell_type": "code",
      "metadata": {
        "colab": {
          "base_uri": "https://localhost:8080/"
        },
        "id": "kQ0XmCiIuxga",
        "outputId": "b6c3a6f7-6d7f-441c-b6ab-5f3f7a7dd06d"
      },
      "source": [
        "X_train.shape"
      ],
      "execution_count": 3,
      "outputs": [
        {
          "output_type": "execute_result",
          "data": {
            "text/plain": [
              "(60000, 28, 28)"
            ]
          },
          "metadata": {
            "tags": []
          },
          "execution_count": 3
        }
      ]
    },
    {
      "cell_type": "code",
      "metadata": {
        "colab": {
          "base_uri": "https://localhost:8080/"
        },
        "id": "RfjcNhPuu0Yq",
        "outputId": "8e5b7f85-ab75-4a02-fe59-b4653de2efd9"
      },
      "source": [
        "X_test.shape"
      ],
      "execution_count": 4,
      "outputs": [
        {
          "output_type": "execute_result",
          "data": {
            "text/plain": [
              "(10000, 28, 28)"
            ]
          },
          "metadata": {
            "tags": []
          },
          "execution_count": 4
        }
      ]
    },
    {
      "cell_type": "code",
      "metadata": {
        "colab": {
          "base_uri": "https://localhost:8080/",
          "height": 292
        },
        "id": "i60ebLG4u9Uj",
        "outputId": "b3b56eab-764e-4503-8507-fd6562f68001"
      },
      "source": [
        "plt.matshow(X_train[0])"
      ],
      "execution_count": 5,
      "outputs": [
        {
          "output_type": "execute_result",
          "data": {
            "text/plain": [
              "<matplotlib.image.AxesImage at 0x7f415fc66490>"
            ]
          },
          "metadata": {
            "tags": []
          },
          "execution_count": 5
        },
        {
          "output_type": "display_data",
          "data": {
            "image/png": "[encoded data removed]",
            "text/plain": [
              "<Figure size 288x288 with 1 Axes>"
            ]
          },
          "metadata": {
            "tags": [],
            "needs_background": "light"
          }
        }
      ]
    },
    {
      "cell_type": "code",
      "metadata": {
        "id": "r3btMsnBvH5j"
      },
      "source": [
        "X_train = X_train/255.0\n",
        "X_test = X_test/255.0"
      ],
      "execution_count": 6,
      "outputs": []
    },
    {
      "cell_type": "code",
      "metadata": {
        "colab": {
          "base_uri": "https://localhost:8080/"
        },
        "id": "em8aWmDUvP7t",
        "outputId": "60468d79-1cdb-4de4-bdcd-12207a3418e6"
      },
      "source": [
        "X_train.shape"
      ],
      "execution_count": 7,
      "outputs": [
        {
          "output_type": "execute_result",
          "data": {
            "text/plain": [
              "(60000, 28, 28)"
            ]
          },
          "metadata": {
            "tags": []
          },
          "execution_count": 7
        }
      ]
    },
    {
      "cell_type": "code",
      "metadata": {
        "id": "F_NA9wD-vdBX"
      },
      "source": [
        "X_train_flatttened = X_train.reshape(len(X_train),28*28)\n",
        "X_test_flatttened = X_test.reshape(len(X_test),28*28)"
      ],
      "execution_count": 8,
      "outputs": []
    },
    {
      "cell_type": "code",
      "metadata": {
        "colab": {
          "base_uri": "https://localhost:8080/"
        },
        "id": "qTpBTHSSvvWp",
        "outputId": "e258d421-7135-45a8-9d9b-0c715b1e76a3"
      },
      "source": [
        "X_test_flatttened.shape"
      ],
      "execution_count": 10,
      "outputs": [
        {
          "output_type": "execute_result",
          "data": {
            "text/plain": [
              "(10000, 784)"
            ]
          },
          "metadata": {
            "tags": []
          },
          "execution_count": 10
        }
      ]
    },
    {
      "cell_type": "code",
      "metadata": {
        "colab": {
          "base_uri": "https://localhost:8080/"
        },
        "id": "6jvPXOZewoGW",
        "outputId": "980cea53-4d28-45f3-ccb1-d294a035191f"
      },
      "source": [
        "X_train_flatttened.shape"
      ],
      "execution_count": 11,
      "outputs": [
        {
          "output_type": "execute_result",
          "data": {
            "text/plain": [
              "(60000, 784)"
            ]
          },
          "metadata": {
            "tags": []
          },
          "execution_count": 11
        }
      ]
    },
    {
      "cell_type": "code",
      "metadata": {
        "colab": {
          "base_uri": "https://localhost:8080/"
        },
        "id": "7jKJjrJ0wqqh",
        "outputId": "6eceffdf-d24c-47c3-9259-55d1a66c7f5c"
      },
      "source": [
        "model = keras.Sequential([\n",
        "    keras.layers.Dense(28,input_shape=(784,),activation='sigmoid')\n",
        "])\n",
        "\n",
        "model.compile(optimizer='Adam',\n",
        "              loss = 'sparse_categorical_crossentropy',\n",
        "              metrics=['accuracy'])\n",
        "model.fit(X_train_flatttened,y_train,epochs=5)"
      ],
      "execution_count": 12,
      "outputs": [
        {
          "output_type": "stream",
          "text": [
            "Epoch 1/5\n",
            "1875/1875 [==============================] - 3s 1ms/step - loss: 0.4824 - accuracy: 0.8758\n",
            "Epoch 2/5\n",
            "1875/1875 [==============================] - 3s 1ms/step - loss: 0.3043 - accuracy: 0.9155\n",
            "Epoch 3/5\n",
            "1875/1875 [==============================] - 3s 1ms/step - loss: 0.2835 - accuracy: 0.9210\n",
            "Epoch 4/5\n",
            "1875/1875 [==============================] - 3s 1ms/step - loss: 0.2734 - accuracy: 0.9235\n",
            "Epoch 5/5\n",
            "1875/1875 [==============================] - 3s 1ms/step - loss: 0.2669 - accuracy: 0.9253\n"
          ],
          "name": "stdout"
        },
        {
          "output_type": "execute_result",
          "data": {
            "text/plain": [
              "<tensorflow.python.keras.callbacks.History at 0x7f4158f3ef50>"
            ]
          },
          "metadata": {
            "tags": []
          },
          "execution_count": 12
        }
      ]
    },
    {
      "cell_type": "code",
      "metadata": {
        "colab": {
          "base_uri": "https://localhost:8080/"
        },
        "id": "PZB2DgO2xjCw",
        "outputId": "3785fd60-00f4-4bbe-89c1-af391d9485a9"
      },
      "source": [
        "model.evaluate(X_test_flatttened,y_test)"
      ],
      "execution_count": 15,
      "outputs": [
        {
          "output_type": "stream",
          "text": [
            "313/313 [==============================] - 0s 1ms/step - loss: 0.2674 - accuracy: 0.9255\n"
          ],
          "name": "stdout"
        },
        {
          "output_type": "execute_result",
          "data": {
            "text/plain": [
              "[0.26738470792770386, 0.9254999756813049]"
            ]
          },
          "metadata": {
            "tags": []
          },
          "execution_count": 15
        }
      ]
    },
    {
      "cell_type": "code",
      "metadata": {
        "id": "BRfrrnwvxzVl"
      },
      "source": [
        "y_predicted = model.predict(X_test_flatttened)"
      ],
      "execution_count": 16,
      "outputs": []
    },
    {
      "cell_type": "code",
      "metadata": {
        "colab": {
          "base_uri": "https://localhost:8080/"
        },
        "id": "iBnqSArnyChr",
        "outputId": "7d6a17a4-b761-4844-81d0-a914272b7d4d"
      },
      "source": [
        "y_predicted[1]"
      ],
      "execution_count": 18,
      "outputs": [
        {
          "output_type": "execute_result",
          "data": {
            "text/plain": [
              "array([7.7490240e-01, 4.5115143e-02, 9.9983001e-01, 6.8222219e-01,\n",
              "       3.0650356e-09, 9.6119249e-01, 9.6603918e-01, 3.3897564e-12,\n",
              "       3.2756796e-01, 7.8160420e-09, 1.1101809e-07, 2.0283936e-07,\n",
              "       1.3305564e-07, 1.4612982e-07, 1.4281717e-07, 1.7857204e-07,\n",
              "       1.0789466e-07, 3.7450906e-08, 1.0764758e-07, 2.7311165e-07,\n",
              "       7.6876077e-08, 2.7782050e-07, 3.7607453e-08, 1.4730529e-07,\n",
              "       8.3488153e-08, 4.0913920e-07, 1.3290371e-07, 1.6644887e-07],\n",
              "      dtype=float32)"
            ]
          },
          "metadata": {
            "tags": []
          },
          "execution_count": 18
        }
      ]
    },
    {
      "cell_type": "code",
      "metadata": {
        "colab": {
          "base_uri": "https://localhost:8080/",
          "height": 292
        },
        "id": "nE-lV7QtyDmv",
        "outputId": "4b0dc6c3-b702-40c4-b35e-469630f25764"
      },
      "source": [
        "plt.matshow(X_test[1])"
      ],
      "execution_count": 22,
      "outputs": [
        {
          "output_type": "execute_result",
          "data": {
            "text/plain": [
              "<matplotlib.image.AxesImage at 0x7f41553d7250>"
            ]
          },
          "metadata": {
            "tags": []
          },
          "execution_count": 22
        },
        {
          "output_type": "display_data",
          "data": {
            "image/png": "[encoded data removed]",
            "text/plain": [
              "<Figure size 288x288 with 1 Axes>"
            ]
          },
          "metadata": {
            "tags": [],
            "needs_background": "light"
          }
        }
      ]
    },
    {
      "cell_type": "code",
      "metadata": {
        "colab": {
          "base_uri": "https://localhost:8080/"
        },
        "id": "EdrP36CdzECB",
        "outputId": "32d30f9b-837c-4914-f37b-46897b37a5a7"
      },
      "source": [
        "np.argmax(y_predicted[1])"
      ],
      "execution_count": 24,
      "outputs": [
        {
          "output_type": "execute_result",
          "data": {
            "text/plain": [
              "2"
            ]
          },
          "metadata": {
            "tags": []
          },
          "execution_count": 24
        }
      ]
    },
    {
      "cell_type": "code",
      "metadata": {
        "colab": {
          "base_uri": "https://localhost:8080/"
        },
        "id": "vBCgRhM1z3d4",
        "outputId": "ff4d6554-1888-4d9a-8019-dea61748dafb"
      },
      "source": [
        "y_predicted_labels=[np.argmax (i) for i in y_predicted]\n",
        "y_predicted_labels[:5]"
      ],
      "execution_count": 29,
      "outputs": [
        {
          "output_type": "execute_result",
          "data": {
            "text/plain": [
              "[7, 2, 1, 0, 4]"
            ]
          },
          "metadata": {
            "tags": []
          },
          "execution_count": 29
        }
      ]
    },
    {
      "cell_type": "code",
      "metadata": {
        "id": "30u4BSFqzZi9"
      },
      "source": [
        "from sklearn.metrics  import confusion_matrix\n",
        "cm = confusion_matrix(y_test,y_predicted_labels)"
      ],
      "execution_count": 30,
      "outputs": []
    },
    {
      "cell_type": "code",
      "metadata": {
        "colab": {
          "base_uri": "https://localhost:8080/"
        },
        "id": "aTb3C09rzxiR",
        "outputId": "da53ab27-7434-4ba5-ae31-179417e8a780"
      },
      "source": [
        "cm"
      ],
      "execution_count": 31,
      "outputs": [
        {
          "output_type": "execute_result",
          "data": {
            "text/plain": [
              "array([[ 963,    0,    1,    2,    0,    4,    7,    2,    1,    0],\n",
              "       [   0, 1120,    2,    2,    0,    1,    4,    2,    4,    0],\n",
              "       [   8,   11,  920,   14,    8,    5,   13,   10,   37,    6],\n",
              "       [   4,    0,   21,  910,    0,   33,    2,    9,   20,   11],\n",
              "       [   1,    1,    3,    0,  902,    0,   13,    3,    9,   50],\n",
              "       [  11,    3,    2,   18,    9,  791,   17,    5,   28,    8],\n",
              "       [  11,    3,    4,    1,    7,    9,  921,    1,    1,    0],\n",
              "       [   1,    7,   22,    8,    9,    1,    0,  936,    1,   43],\n",
              "       [   9,   15,    6,   18,    9,   31,   10,   10,  856,   10],\n",
              "       [  10,    7,    2,    8,   21,    6,    0,   14,    5,  936]])"
            ]
          },
          "metadata": {
            "tags": []
          },
          "execution_count": 31
        }
      ]
    },
    {
      "cell_type": "code",
      "metadata": {
        "id": "FJn91g_m0Ujp"
      },
      "source": [
        "from sklearn.metrics import accuracy_score"
      ],
      "execution_count": 32,
      "outputs": []
    },
    {
      "cell_type": "code",
      "metadata": {
        "colab": {
          "base_uri": "https://localhost:8080/"
        },
        "id": "2thLY98d0vJc",
        "outputId": "79f7adcd-8d3d-47d1-a7da-142026c3b5cf"
      },
      "source": [
        "print(accuracy_score(y_test,y_predicted_labels))"
      ],
      "execution_count": 33,
      "outputs": [
        {
          "output_type": "stream",
          "text": [
            "0.9255\n"
          ],
          "name": "stdout"
        }
      ]
    },
    {
      "cell_type": "code",
      "metadata": {
        "id": "-UBLj1uO0zwD"
      },
      "source": [
        "##increasing the number of hidden layers. "
      ],
      "execution_count": 34,
      "outputs": []
    },
    {
      "cell_type": "code",
      "metadata": {
        "colab": {
          "base_uri": "https://localhost:8080/"
        },
        "id": "S1Zdt0ea096b",
        "outputId": "d1ff2425-9ad0-407a-8d49-e408e3b8fd85"
      },
      "source": [
        "model = keras.Sequential([\n",
        "    keras.layers.Dense(100,input_shape=(784,),activation='sigmoid'),\n",
        "    keras.layers.Dense(15,activation='sigmoid')\n",
        "])\n",
        "\n",
        "model.compile(optimizer='Adam',\n",
        "              loss = 'sparse_categorical_crossentropy',\n",
        "              metrics=['accuracy'])\n",
        "model.fit(X_train_flatttened,y_train,epochs=10)"
      ],
      "execution_count": 36,
      "outputs": [
        {
          "output_type": "stream",
          "text": [
            "Epoch 1/10\n",
            "1875/1875 [==============================] - 4s 2ms/step - loss: 0.4202 - accuracy: 0.8932\n",
            "Epoch 2/10\n",
            "1875/1875 [==============================] - 4s 2ms/step - loss: 0.2040 - accuracy: 0.9420\n",
            "Epoch 3/10\n",
            "1875/1875 [==============================] - 4s 2ms/step - loss: 0.1528 - accuracy: 0.9562\n",
            "Epoch 4/10\n",
            "1875/1875 [==============================] - 4s 2ms/step - loss: 0.1205 - accuracy: 0.9664\n",
            "Epoch 5/10\n",
            "1875/1875 [==============================] - 4s 2ms/step - loss: 0.0985 - accuracy: 0.9720\n",
            "Epoch 6/10\n",
            "1875/1875 [==============================] - 4s 2ms/step - loss: 0.0833 - accuracy: 0.9764\n",
            "Epoch 7/10\n",
            "1875/1875 [==============================] - 4s 2ms/step - loss: 0.0701 - accuracy: 0.9797\n",
            "Epoch 8/10\n",
            "1875/1875 [==============================] - 4s 2ms/step - loss: 0.0605 - accuracy: 0.9834\n",
            "Epoch 9/10\n",
            "1875/1875 [==============================] - 4s 2ms/step - loss: 0.0518 - accuracy: 0.9859\n",
            "Epoch 10/10\n",
            "1875/1875 [==============================] - 4s 2ms/step - loss: 0.0449 - accuracy: 0.9882\n"
          ],
          "name": "stdout"
        },
        {
          "output_type": "execute_result",
          "data": {
            "text/plain": [
              "<tensorflow.python.keras.callbacks.History at 0x7f414ce07750>"
            ]
          },
          "metadata": {
            "tags": []
          },
          "execution_count": 36
        }
      ]
    },
    {
      "cell_type": "code",
      "metadata": {
        "colab": {
          "base_uri": "https://localhost:8080/"
        },
        "id": "6OPkNbn11Vhj",
        "outputId": "b6f2da28-7241-44df-d24f-3bd60989dd25"
      },
      "source": [
        "model.evaluate(X_test_flatttened,y_test)"
      ],
      "execution_count": 37,
      "outputs": [
        {
          "output_type": "stream",
          "text": [
            "313/313 [==============================] - 0s 1ms/step - loss: 0.0797 - accuracy: 0.9762\n"
          ],
          "name": "stdout"
        },
        {
          "output_type": "execute_result",
          "data": {
            "text/plain": [
              "[0.07972586899995804, 0.9761999845504761]"
            ]
          },
          "metadata": {
            "tags": []
          },
          "execution_count": 37
        }
      ]
    },
    {
      "cell_type": "code",
      "metadata": {
        "id": "TwR5-1aa13xa"
      },
      "source": [
        "y_predicted=model.predict(X_test_flatttened)"
      ],
      "execution_count": 38,
      "outputs": []
    },
    {
      "cell_type": "code",
      "metadata": {
        "colab": {
          "base_uri": "https://localhost:8080/"
        },
        "id": "3VLJxFRh2B3W",
        "outputId": "0b18fdf6-3bda-4c85-e72a-d7a84d36e109"
      },
      "source": [
        "y_predicted"
      ],
      "execution_count": 39,
      "outputs": [
        {
          "output_type": "execute_result",
          "data": {
            "text/plain": [
              "array([[9.2108548e-03, 1.3241798e-02, 3.7708619e-01, ..., 7.9840379e-07,\n",
              "        2.0361510e-06, 1.2142388e-06],\n",
              "       [5.3029895e-02, 9.0914547e-01, 9.9952948e-01, ..., 4.0677799e-07,\n",
              "        1.7653460e-06, 1.0059321e-06],\n",
              "       [2.9041632e-05, 9.9795103e-01, 1.5283021e-01, ..., 4.7874158e-07,\n",
              "        1.5209371e-06, 9.6257679e-07],\n",
              "       ...,\n",
              "       [3.1020503e-05, 1.7824769e-04, 5.7518482e-04, ..., 4.1690765e-07,\n",
              "        5.0358062e-07, 1.5049819e-06],\n",
              "       [2.6259124e-03, 8.4796250e-03, 1.1267313e-04, ..., 2.6763743e-07,\n",
              "        5.9490304e-07, 1.9869456e-06],\n",
              "       [2.9118961e-01, 1.2184083e-03, 7.0431519e-01, ..., 1.0868807e-06,\n",
              "        2.1863386e-06, 1.9490221e-06]], dtype=float32)"
            ]
          },
          "metadata": {
            "tags": []
          },
          "execution_count": 39
        }
      ]
    },
    {
      "cell_type": "code",
      "metadata": {
        "id": "0mnzrwnU2Dp4"
      },
      "source": [
        "y_predicted_labels=[np.argmax(i) for i in y_predicted]"
      ],
      "execution_count": 42,
      "outputs": []
    },
    {
      "cell_type": "code",
      "metadata": {
        "colab": {
          "base_uri": "https://localhost:8080/"
        },
        "id": "Zh2vJ6HQ2TIt",
        "outputId": "0732921a-4a80-4999-931a-ae343f7676a4"
      },
      "source": [
        "y_predicted_labels[:5]"
      ],
      "execution_count": 45,
      "outputs": [
        {
          "output_type": "execute_result",
          "data": {
            "text/plain": [
              "[7, 2, 1, 0, 4]"
            ]
          },
          "metadata": {
            "tags": []
          },
          "execution_count": 45
        }
      ]
    },
    {
      "cell_type": "code",
      "metadata": {
        "colab": {
          "base_uri": "https://localhost:8080/"
        },
        "id": "7jWIlCgk2ad7",
        "outputId": "489fd1ac-49a2-480f-9b8f-4fef7e4a01a8"
      },
      "source": [
        "print(accuracy_score(y_test,y_predicted_labels))"
      ],
      "execution_count": 46,
      "outputs": [
        {
          "output_type": "stream",
          "text": [
            "0.9762\n"
          ],
          "name": "stdout"
        }
      ]
    },
    {
      "cell_type": "code",
      "metadata": {
        "colab": {
          "base_uri": "https://localhost:8080/",
          "height": 459
        },
        "id": "RVSO7u2i2mKf",
        "outputId": "b6f756b4-5474-4aa2-85f1-18ec46775da6"
      },
      "source": [
        "import seaborn as sns\n",
        "plt.figure(figsize=(10,7))\n",
        "sns.heatmap(cm,annot=True,fmt='d')\n",
        "plt.xlabel('Predicted')\n",
        "plt.ylabel('Truth')"
      ],
      "execution_count": 47,
      "outputs": [
        {
          "output_type": "execute_result",
          "data": {
            "text/plain": [
              "Text(69.0, 0.5, 'Truth')"
            ]
          },
          "metadata": {
            "tags": []
          },
          "execution_count": 47
        },
        {
          "output_type": "display_data",
          "data": {
            "image/png": "[encoded data removed]",
            "text/plain": [
              "<Figure size 720x504 with 2 Axes>"
            ]
          },
          "metadata": {
            "tags": [],
            "needs_background": "light"
          }
        }
      ]
    },
    {
      "cell_type": "code",
      "metadata": {
        "id": "H3nwsL7N4CwZ"
      },
      "source": [
        ""
      ],
      "execution_count": null,
      "outputs": []
    }
  ]
}